{
  "nbformat": 4,
  "nbformat_minor": 0,
  "metadata": {
    "colab": {
      "provenance": [],
      "authorship_tag": "ABX9TyPUx5Y1JFih7rwjO8Zye8Z8",
      "include_colab_link": true
    },
    "kernelspec": {
      "name": "python3",
      "display_name": "Python 3"
    },
    "language_info": {
      "name": "python"
    }
  },
  "cells": [
    {
      "cell_type": "markdown",
      "metadata": {
        "id": "view-in-github",
        "colab_type": "text"
      },
      "source": [
        "<a href=\"https://colab.research.google.com/github/Raphael-O-Santos/OptPython/blob/main/Exercicio_02.ipynb\" target=\"_parent\"><img src=\"https://colab.research.google.com/assets/colab-badge.svg\" alt=\"Open In Colab\"/></a>"
      ]
    },
    {
      "cell_type": "code",
      "execution_count": 1,
      "metadata": {
        "colab": {
          "base_uri": "https://localhost:8080/"
        },
        "collapsed": true,
        "id": "PuqiE8r_mri8",
        "outputId": "d4b45b43-5436-4835-d2d4-48ccbda1b247"
      },
      "outputs": [
        {
          "output_type": "execute_result",
          "data": {
            "text/plain": [
              "{'Maria': 5, 'Julieta': 7, 'Fernando': 8, 'Cristiano': 9, 'Cláudio': 7}"
            ]
          },
          "metadata": {},
          "execution_count": 1
        }
      ],
      "source": [
        "# relação dos nomes\n",
        "nomes = ['Maria', 'Julieta', 'Fernando', 'Cristiano', 'Julieta', 'Maria', 'Fernando', 'Cláudio']\n",
        "\n",
        "# estrutura que irá armazenar o número de letras de cada nome\n",
        "qtd_letras = {}\n",
        "\n",
        "# calcula o tamanho de cada nome (em número de letras) e armazena o valor na estrutura\n",
        "for nome in nomes:\n",
        "  qtd_letras[nome] = len(nome)\n",
        "\n",
        "qtd_letras"
      ]
    },
    {
      "cell_type": "code",
      "source": [
        "# refazendo o código anterior utilizando o conceito de compreensão de dicionários\n",
        "qtd_letras = {nome: len(nome) for nome in nomes}\n",
        "\n",
        "qtd_letras"
      ],
      "metadata": {
        "collapsed": true,
        "colab": {
          "base_uri": "https://localhost:8080/"
        },
        "id": "RkhlweaunC0y",
        "outputId": "cb9d5589-207b-4627-b777-5cc9f19772e4"
      },
      "execution_count": 2,
      "outputs": [
        {
          "output_type": "execute_result",
          "data": {
            "text/plain": [
              "{'Maria': 5, 'Julieta': 7, 'Fernando': 8, 'Cristiano': 9, 'Cláudio': 7}"
            ]
          },
          "metadata": {},
          "execution_count": 2
        }
      ]
    },
    {
      "cell_type": "code",
      "source": [
        "# área do círculo\n",
        "def area(r, pi=3.14):\n",
        "  return pi * (r ** 2)"
      ],
      "metadata": {
        "id": "RPZ_XrBonF3Z"
      },
      "execution_count": 3,
      "outputs": []
    },
    {
      "cell_type": "code",
      "source": [
        "# área do círculo com raio = 8 e pi padrão\n",
        "area(8)"
      ],
      "metadata": {
        "colab": {
          "base_uri": "https://localhost:8080/"
        },
        "collapsed": true,
        "id": "IMqArXpQnRlF",
        "outputId": "025b2217-3be4-44f2-df42-c0aad9a16445"
      },
      "execution_count": 4,
      "outputs": [
        {
          "output_type": "execute_result",
          "data": {
            "text/plain": [
              "200.96"
            ]
          },
          "metadata": {},
          "execution_count": 4
        }
      ]
    },
    {
      "cell_type": "code",
      "source": [
        "# área do círculo com raio = 8 e pi = 3,141592\n",
        "area(8, 3.141592)"
      ],
      "metadata": {
        "collapsed": true,
        "colab": {
          "base_uri": "https://localhost:8080/"
        },
        "id": "_iCJ4PVBnSu5",
        "outputId": "6884e70d-7a4c-47a3-b9d3-efdd1153f2ca"
      },
      "execution_count": 5,
      "outputs": [
        {
          "output_type": "execute_result",
          "data": {
            "text/plain": [
              "201.061888"
            ]
          },
          "metadata": {},
          "execution_count": 5
        }
      ]
    },
    {
      "cell_type": "code",
      "source": [
        "# área do círculo com função anônima\n",
        "area = lambda r, pi=3.14: pi * (r ** 2)\n",
        "\n",
        "print(\n",
        "    'Raio 8 e PI padrão: ' + str(area(8))\n",
        "    + '\\n' + 'Raio 8 e PI = 3.141592: ' + str(area(8, 3.141592))\n",
        ")"
      ],
      "metadata": {
        "colab": {
          "base_uri": "https://localhost:8080/"
        },
        "collapsed": true,
        "id": "kzDPi0hJnXtR",
        "outputId": "28870ea8-2dd8-4ae7-8636-9d1433f620e5"
      },
      "execution_count": 6,
      "outputs": [
        {
          "output_type": "stream",
          "name": "stdout",
          "text": [
            "Raio 8 e PI padrão: 200.96\n",
            "Raio 8 e PI = 3.141592: 201.061888\n"
          ]
        }
      ]
    },
    {
      "cell_type": "code",
      "source": [
        "from google.colab import drive\n",
        "drive.mount ('/content/gdrive', force_remount=True)"
      ],
      "metadata": {
        "colab": {
          "base_uri": "https://localhost:8080/"
        },
        "collapsed": true,
        "id": "55MFMWOQnrBd",
        "outputId": "29925d59-8d7a-40ec-fc55-2b6f183f967e"
      },
      "execution_count": 7,
      "outputs": [
        {
          "output_type": "stream",
          "name": "stdout",
          "text": [
            "Mounted at /content/gdrive\n"
          ]
        }
      ]
    },
    {
      "cell_type": "code",
      "source": [
        "import sys\n",
        "sys.path.insert(0,'/content/gdrive/MyDrive/Colab Notebooks/')"
      ],
      "metadata": {
        "id": "IpJXayMTqD0I"
      },
      "execution_count": 8,
      "outputs": []
    },
    {
      "cell_type": "code",
      "source": [
        "import processalista"
      ],
      "metadata": {
        "id": "LctpKnhK-9me"
      },
      "execution_count": 9,
      "outputs": []
    },
    {
      "cell_type": "code",
      "source": [
        "from processalista import *\n",
        "\n",
        "lista1 = [15, 22, 7, 88, 3, 41]\n",
        "\n",
        "print('Maior número ímpar na lista: ' + str(processalista.maior_impar(lista1)))\n",
        "print('Menor número ímpar na lista: ' + str(processalista.menor_impar(lista1)))\n",
        "print('Maior e menor número ímpar na lista: ' + str(processalista.maior_menor_impar(lista1)))"
      ],
      "metadata": {
        "colab": {
          "base_uri": "https://localhost:8080/"
        },
        "id": "RHbUet7yE2TA",
        "outputId": "1f9e726d-0f14-41d1-d432-348a5ab51da2",
        "collapsed": true
      },
      "execution_count": 12,
      "outputs": [
        {
          "output_type": "stream",
          "name": "stdout",
          "text": [
            "Maior número ímpar na lista: 41\n",
            "Menor número ímpar na lista: 3\n",
            "Maior e menor número ímpar na lista: (41, 3)\n"
          ]
        }
      ]
    },
    {
      "cell_type": "code",
      "source": [
        "# relação de dias da semana que cada médico atende\n",
        "cardiologista = {'terca', 'quarta'}\n",
        "ortopedista = {'terca', 'quinta'}\n",
        "dermatologista = {'segunda', 'quarta', 'sexta'}\n",
        "neurologista = {'terca', 'quinta', 'sexta'}\n",
        "psiquiatra = {'segunda', 'quarta', 'sexta'}\n",
        "\n",
        "# Calcula quais os dias possíveis para dois médicos\n",
        "def disp_dois_especialistas(medico01, medico02):\n",
        "  return medico01.intersection(medico02)\n",
        "\n",
        "# Calcula quais os dias possíveis para três médicos\n",
        "def disp_tres_especialistas(medico01, medico02, medico03):\n",
        "  return medico01.intersection(medico02, medico03)\n",
        "\n",
        "print(\n",
        "    'Disponibilidade de atendimento para ortopedista e neurologista: '\n",
        "    + str(disp_dois_especialistas(ortopedista, neurologista))\n",
        ")\n",
        "print(\n",
        "    'Disponibilidade de atendimento para dermatologista, neurologista e psiquiatra: '\n",
        "    + str(disp_tres_especialistas(dermatologista, neurologista, psiquiatra))\n",
        ")"
      ],
      "metadata": {
        "colab": {
          "base_uri": "https://localhost:8080/"
        },
        "collapsed": true,
        "id": "bh1TxeaxL17S",
        "outputId": "f6bf91c7-0ed0-4ea0-de1e-a31dcc4e9138"
      },
      "execution_count": 13,
      "outputs": [
        {
          "output_type": "stream",
          "name": "stdout",
          "text": [
            "Disponibilidade de atendimento para ortopedista e neurologista: {'quinta', 'terca'}\n",
            "Disponibilidade de atendimento para dermatologista, neurologista e psiquiatra: {'sexta'}\n"
          ]
        }
      ]
    }
  ]
}