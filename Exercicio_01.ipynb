{
  "nbformat": 4,
  "nbformat_minor": 0,
  "metadata": {
    "colab": {
      "provenance": [],
      "authorship_tag": "ABX9TyPa6eWCrp5RmDFg6IV3Lu4V",
      "include_colab_link": true
    },
    "kernelspec": {
      "name": "python3",
      "display_name": "Python 3"
    },
    "language_info": {
      "name": "python"
    }
  },
  "cells": [
    {
      "cell_type": "markdown",
      "metadata": {
        "id": "view-in-github",
        "colab_type": "text"
      },
      "source": [
        "<a href=\"https://colab.research.google.com/github/Raphael-O-Santos/OptPython/blob/main/Exercicio_01.ipynb\" target=\"_parent\"><img src=\"https://colab.research.google.com/assets/colab-badge.svg\" alt=\"Open In Colab\"/></a>"
      ]
    },
    {
      "cell_type": "code",
      "execution_count": 1,
      "metadata": {
        "id": "xrL0U6f6iq-X",
        "colab": {
          "base_uri": "https://localhost:8080/"
        },
        "collapsed": true,
        "outputId": "e287ea00-afa3-4899-bacd-875ba45c4294"
      },
      "outputs": [
        {
          "output_type": "stream",
          "name": "stdout",
          "text": [
            "0\n",
            "5\n",
            "10\n",
            "15\n",
            "20\n",
            "25\n",
            "30\n",
            "35\n",
            "40\n",
            "45\n",
            "50\n",
            "55\n",
            "60\n",
            "65\n",
            "70\n",
            "75\n",
            "80\n",
            "85\n",
            "90\n",
            "95\n"
          ]
        }
      ],
      "source": [
        "# declaração das variáveis\n",
        "inicio = 0\n",
        "fim = 100\n",
        "\n",
        "# verifica quais números são divisíveis por 5, e exibe aqueles que são\n",
        "for numero in range(inicio, fim):\n",
        "  if numero % 5 == 0:\n",
        "    print(numero)"
      ]
    },
    {
      "cell_type": "code",
      "source": [
        "# Sabendo que A=3, B=7 e C=4, informe se as expressões abaixo são verdadeiras ou falsas (?)"
      ],
      "metadata": {
        "id": "mUNvGPvNj0Mi"
      },
      "execution_count": 9,
      "outputs": []
    },
    {
      "cell_type": "code",
      "source": [
        "# declaração das variáveis\n",
        "inicio = 100\n",
        "fim = 500\n",
        "\n",
        "# verifica quais números são divisíveis por 2, 5 e 7 (simultaneamente), e exibe aqueles que são\n",
        "for numero in range(inicio, fim):\n",
        "  if numero % 2 == 0 and numero % 5 == 0 and numero % 7 == 0:\n",
        "    print(numero)"
      ],
      "metadata": {
        "colab": {
          "base_uri": "https://localhost:8080/"
        },
        "collapsed": true,
        "id": "d3bqRYxlj2Ui",
        "outputId": "caab227a-7645-4498-952c-31f7a9f6e0b7"
      },
      "execution_count": 2,
      "outputs": [
        {
          "output_type": "stream",
          "name": "stdout",
          "text": [
            "140\n",
            "210\n",
            "280\n",
            "350\n",
            "420\n",
            "490\n"
          ]
        }
      ]
    },
    {
      "cell_type": "code",
      "source": [
        "# declaração das variáveis\n",
        "inicio = 0\n",
        "fim = 1000\n",
        "divisor = 39\n",
        "\n",
        "# verifica quais os números no intervalo entre 0 e 1000 (incluindo o 0 e excluindo o 1000) são múltiplos da variável divisor\n",
        "for numero in range(inicio, fim):\n",
        "  if numero % divisor == 0:\n",
        "    print(numero)"
      ],
      "metadata": {
        "colab": {
          "base_uri": "https://localhost:8080/"
        },
        "collapsed": true,
        "id": "1NKhKF9Jj-Mi",
        "outputId": "4fb76d3a-286d-4fa5-9f4a-8a4b40c7e811"
      },
      "execution_count": 3,
      "outputs": [
        {
          "output_type": "stream",
          "name": "stdout",
          "text": [
            "0\n",
            "39\n",
            "78\n",
            "117\n",
            "156\n",
            "195\n",
            "234\n",
            "273\n",
            "312\n",
            "351\n",
            "390\n",
            "429\n",
            "468\n",
            "507\n",
            "546\n",
            "585\n",
            "624\n",
            "663\n",
            "702\n",
            "741\n",
            "780\n",
            "819\n",
            "858\n",
            "897\n",
            "936\n",
            "975\n"
          ]
        }
      ]
    },
    {
      "cell_type": "code",
      "source": [
        "# variáveis do tipo string\n",
        "nome = 'João da Silva'\n",
        "cidade = 'São Paulo'\n",
        "cpf = '123.456.789-00'"
      ],
      "metadata": {
        "id": "nRbF9mMdkI9i"
      },
      "execution_count": 7,
      "outputs": []
    },
    {
      "cell_type": "code",
      "source": [
        "# exibe todos os caracteres das variáveis em maiúsculo\n",
        "print(nome.upper() + '\\n' + cidade.upper() + '\\n' + cpf.upper())"
      ],
      "metadata": {
        "colab": {
          "base_uri": "https://localhost:8080/"
        },
        "collapsed": true,
        "id": "ppcM8g9fkNBi",
        "outputId": "8ed30063-6955-4212-a21d-9f95ba0a6fa8"
      },
      "execution_count": 8,
      "outputs": [
        {
          "output_type": "stream",
          "name": "stdout",
          "text": [
            "JOÃO DA SILVA\n",
            "SÃO PAULO\n",
            "123.456.789-00\n"
          ]
        }
      ]
    },
    {
      "cell_type": "code",
      "source": [
        "# exibe todos os caracteres das variáveis em minúsculo\n",
        "print(nome.lower() + '\\n' + cidade.lower() + '\\n' + cpf.lower())"
      ],
      "metadata": {
        "collapsed": true,
        "colab": {
          "base_uri": "https://localhost:8080/"
        },
        "id": "gvOn1syakbqa",
        "outputId": "4c956ef9-bfcf-41df-9b8b-13268e301c37"
      },
      "execution_count": 10,
      "outputs": [
        {
          "output_type": "stream",
          "name": "stdout",
          "text": [
            "joão da silva\n",
            "são paulo\n",
            "123.456.789-00\n"
          ]
        }
      ]
    },
    {
      "cell_type": "code",
      "source": [
        "# exibe a posição do caractere ã, se presente, em cada uma das variáveis\n",
        "if 'ã' in nome:\n",
        "  print(\"O caractere 'ã' na variável 'nome' fica na posição \" + str(nome.index('ã')))\n",
        "if 'ã' in cidade:\n",
        "  print(\"O caractere 'ã' na variável 'cidade' fica na posição \" + str(cidade.index('ã')))\n",
        "if 'ã' in cpf:\n",
        "  print(\"O caractere 'ã' na variável 'cpf' fica na posição \" + str(cpf.index('ã')))"
      ],
      "metadata": {
        "colab": {
          "base_uri": "https://localhost:8080/"
        },
        "collapsed": true,
        "id": "izWl3Hbwkjsx",
        "outputId": "b9c71416-4c3b-4a8f-8e71-b5e91c77e999"
      },
      "execution_count": 11,
      "outputs": [
        {
          "output_type": "stream",
          "name": "stdout",
          "text": [
            "O caractere 'ã' na variável 'nome' fica na posição 2\n",
            "O caractere 'ã' na variável 'cidade' fica na posição 1\n"
          ]
        }
      ]
    },
    {
      "cell_type": "code",
      "source": [
        "# exibe o número de caracteres de cada variável\n",
        "print(\n",
        "    \"A quantidade de caracteres na variável 'nome' é \" + str(len(nome))\n",
        "    + '\\n' + \"A quantidade de caracteres na variável 'cidade' é \" + str(len(cidade))\n",
        "    + '\\n' + \"A quantidade de caracteres na variável 'cpf' é \" + str(len(cpf))\n",
        ")"
      ],
      "metadata": {
        "colab": {
          "base_uri": "https://localhost:8080/"
        },
        "collapsed": true,
        "id": "cR4pAse9kr6K",
        "outputId": "365efa45-38b2-4961-b09f-4c59c9b10049"
      },
      "execution_count": 12,
      "outputs": [
        {
          "output_type": "stream",
          "name": "stdout",
          "text": [
            "A quantidade de caracteres na variável 'nome' é 13\n",
            "A quantidade de caracteres na variável 'cidade' é 9\n",
            "A quantidade de caracteres na variável 'cpf' é 14\n"
          ]
        }
      ]
    },
    {
      "cell_type": "code",
      "source": [
        "# exibe a variável cpf sem os pontos (.) e o hífen (–)\n",
        "cpf.replace('.', '').replace('-', '')"
      ],
      "metadata": {
        "colab": {
          "base_uri": "https://localhost:8080/",
          "height": 35
        },
        "collapsed": true,
        "id": "Olq1R4VVk0ep",
        "outputId": "768426af-e7e7-47b7-9735-b815e84edf9e"
      },
      "execution_count": 13,
      "outputs": [
        {
          "output_type": "execute_result",
          "data": {
            "text/plain": [
              "'12345678900'"
            ],
            "application/vnd.google.colaboratory.intrinsic+json": {
              "type": "string"
            }
          },
          "metadata": {},
          "execution_count": 13
        }
      ]
    },
    {
      "cell_type": "code",
      "source": [
        "# exibe o somatório de todos os caracteres da string numero\n",
        "numero = '127957'\n",
        "soma = 0\n",
        "\n",
        "for n in range(0, len(numero)):\n",
        "  soma = soma + int(numero[n])\n",
        "\n",
        "print(\"O somatório da string 'numero' é \" + str(soma))"
      ],
      "metadata": {
        "colab": {
          "base_uri": "https://localhost:8080/"
        },
        "collapsed": true,
        "id": "G-sbFC0Zk6Xl",
        "outputId": "691ffc4e-514f-474d-817f-3a8826804c31"
      },
      "execution_count": 14,
      "outputs": [
        {
          "output_type": "stream",
          "name": "stdout",
          "text": [
            "O somatório da string 'numero' é 31\n"
          ]
        }
      ]
    }
  ]
}